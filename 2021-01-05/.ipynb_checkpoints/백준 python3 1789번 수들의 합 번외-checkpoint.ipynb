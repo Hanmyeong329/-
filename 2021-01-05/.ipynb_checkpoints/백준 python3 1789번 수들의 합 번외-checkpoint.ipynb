{
 "cells": [
  {
   "cell_type": "code",
   "execution_count": 54,
   "metadata": {},
   "outputs": [
    {
     "name": "stdout",
     "output_type": "stream",
     "text": [
      "200\n",
      "[1, 2, 3, 4, 5, 6, 7, 8, 9, 10, 11, 12, 13, 14, 15, 16, 17, 18, 29]\n",
      "19\n"
     ]
    }
   ],
   "source": [
    "from functools import reduce\n",
    "a=int(input())\n",
    "b=a\n",
    "arr=[]\n",
    "for x in range(1,b+1):\n",
    "    if a>x:\n",
    "        arr.append(x)\n",
    "        a-=x\n",
    "    elif a<x and (a in arr):\n",
    "        a+=arr.pop()\n",
    "        arr.append(a)\n",
    "        k=(reduce(lambda x,y:x+y,arr))\n",
    "        if k==b:\n",
    "            print(arr)\n",
    "            break\n",
    "    elif a==x:\n",
    "        arr.append(x)\n",
    "        print(arr)\n",
    "        break\n",
    "print(len(arr))"
   ]
  },
  {
   "cell_type": "code",
   "execution_count": null,
   "metadata": {},
   "outputs": [],
   "source": []
  }
 ],
 "metadata": {
  "kernelspec": {
   "display_name": "Python 3",
   "language": "python",
   "name": "python3"
  },
  "language_info": {
   "codemirror_mode": {
    "name": "ipython",
    "version": 3
   },
   "file_extension": ".py",
   "mimetype": "text/x-python",
   "name": "python",
   "nbconvert_exporter": "python",
   "pygments_lexer": "ipython3",
   "version": "3.8.5"
  }
 },
 "nbformat": 4,
 "nbformat_minor": 4
}
