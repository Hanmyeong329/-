{
 "cells": [
  {
   "cell_type": "code",
   "execution_count": 11,
   "metadata": {},
   "outputs": [
    {
     "name": "stdout",
     "output_type": "stream",
     "text": [
      "3\n",
      "2\n",
      "16\n",
      "23\n",
      "1\n",
      "54\n",
      "2\n",
      "13\n",
      "90\n",
      "90\n",
      "9\n"
     ]
    }
   ],
   "source": [
    "arr=[]\n",
    "for x in range(9):\n",
    "    arr.append(int(input()))\n",
    "raa=sorted(arr)\n",
    "print(raa[8])\n",
    "print(arr.index(raa[8])+1)"
   ]
  },
  {
   "cell_type": "code",
   "execution_count": null,
   "metadata": {},
   "outputs": [],
   "source": []
  }
 ],
 "metadata": {
  "kernelspec": {
   "display_name": "Python 3",
   "language": "python",
   "name": "python3"
  },
  "language_info": {
   "codemirror_mode": {
    "name": "ipython",
    "version": 3
   },
   "file_extension": ".py",
   "mimetype": "text/x-python",
   "name": "python",
   "nbconvert_exporter": "python",
   "pygments_lexer": "ipython3",
   "version": "3.8.5"
  }
 },
 "nbformat": 4,
 "nbformat_minor": 4
}
