{
 "cells": [
  {
   "cell_type": "code",
   "execution_count": 8,
   "metadata": {},
   "outputs": [
    {
     "name": "stdout",
     "output_type": "stream",
     "text": [
      "2 1\n",
      "3번째\n"
     ]
    }
   ],
   "source": [
    "def d(x,y):\n",
    "    return (((x+y-2)+1)/2)*(x+y-2)\n",
    "x,y=map(int,input().split())\n",
    "a=d(x,y)\n",
    "if (x+y)%2==1:\n",
    "    print('%d번째'%(a+x))\n",
    "else:\n",
    "    print('%d번째'%(a+y))"
   ]
  }
 ],
 "metadata": {
  "kernelspec": {
   "display_name": "Python 3",
   "language": "python",
   "name": "python3"
  },
  "language_info": {
   "codemirror_mode": {
    "name": "ipython",
    "version": 3
   },
   "file_extension": ".py",
   "mimetype": "text/x-python",
   "name": "python",
   "nbconvert_exporter": "python",
   "pygments_lexer": "ipython3",
   "version": "3.8.5"
  }
 },
 "nbformat": 4,
 "nbformat_minor": 4
}
