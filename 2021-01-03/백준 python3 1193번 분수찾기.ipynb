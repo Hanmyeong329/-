{
 "cells": [
  {
   "cell_type": "code",
   "execution_count": 14,
   "metadata": {},
   "outputs": [
    {
     "name": "stdout",
     "output_type": "stream",
     "text": [
      "1\n",
      "1/1\n"
     ]
    }
   ],
   "source": [
    "def dchx(i):\n",
    "    x=0\n",
    "    while True:\n",
    "        if (1+x)/2*x<i:\n",
    "            x+=1\n",
    "        else:\n",
    "            return x-1\n",
    "def dch(k):\n",
    "    return i-((1+a)/2*a)\n",
    "i=int(input())\n",
    "a=dchx(i)\n",
    "b=0\n",
    "c=0\n",
    "d=dch(a)\n",
    "if (a+1)%2==1:\n",
    "    b=(a+2)-d\n",
    "    c=d\n",
    "else:\n",
    "    b=d\n",
    "    c=(a+2)-d\n",
    "print('%d/%d'%(b,c))"
   ]
  },
  {
   "cell_type": "code",
   "execution_count": null,
   "metadata": {},
   "outputs": [],
   "source": []
  }
 ],
 "metadata": {
  "kernelspec": {
   "display_name": "Python 3",
   "language": "python",
   "name": "python3"
  },
  "language_info": {
   "codemirror_mode": {
    "name": "ipython",
    "version": 3
   },
   "file_extension": ".py",
   "mimetype": "text/x-python",
   "name": "python",
   "nbconvert_exporter": "python",
   "pygments_lexer": "ipython3",
   "version": "3.8.5"
  }
 },
 "nbformat": 4,
 "nbformat_minor": 4
}
