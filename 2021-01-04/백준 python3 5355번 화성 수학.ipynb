{
 "cells": [
  {
   "cell_type": "code",
   "execution_count": 7,
   "metadata": {},
   "outputs": [
    {
     "name": "stdout",
     "output_type": "stream",
     "text": [
      "3\n",
      "3 @ %\n",
      "14.00\n",
      "10.4 # % @\n",
      "25.20\n",
      "8 #\n",
      "1.00\n"
     ]
    }
   ],
   "source": [
    "for x in range(int(input())):\n",
    "    i=list(input().split())\n",
    "    z=0\n",
    "    for y in i:\n",
    "        if y=='@':\n",
    "            z*=3\n",
    "        elif y=='%':\n",
    "            z+=5\n",
    "        elif y=='#':\n",
    "            z-=7\n",
    "        else:\n",
    "            z+=float(y)\n",
    "    print('%.2f'%z)"
   ]
  },
  {
   "cell_type": "code",
   "execution_count": null,
   "metadata": {},
   "outputs": [],
   "source": []
  }
 ],
 "metadata": {
  "kernelspec": {
   "display_name": "Python 3",
   "language": "python",
   "name": "python3"
  },
  "language_info": {
   "codemirror_mode": {
    "name": "ipython",
    "version": 3
   },
   "file_extension": ".py",
   "mimetype": "text/x-python",
   "name": "python",
   "nbconvert_exporter": "python",
   "pygments_lexer": "ipython3",
   "version": "3.8.5"
  }
 },
 "nbformat": 4,
 "nbformat_minor": 4
}
