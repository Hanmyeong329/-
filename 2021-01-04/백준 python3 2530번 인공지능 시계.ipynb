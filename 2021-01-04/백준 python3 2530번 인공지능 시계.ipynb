{
 "cells": [
  {
   "cell_type": "code",
   "execution_count": 9,
   "metadata": {
    "scrolled": true
   },
   "outputs": [
    {
     "name": "stdout",
     "output_type": "stream",
     "text": [
      "12 45 5\n",
      "45\n",
      "12 45 50\n"
     ]
    }
   ],
   "source": [
    "a,b,c=map(int,input().split())\n",
    "i=int(input())\n",
    "print((a+(c+i)//3600+(b+(c+i)%3600//60)//60)%24,(b+((c+i)%3600)//60)%60,((c+i)%3600)%60)"
   ]
  }
 ],
 "metadata": {
  "kernelspec": {
   "display_name": "Python 3",
   "language": "python",
   "name": "python3"
  },
  "language_info": {
   "codemirror_mode": {
    "name": "ipython",
    "version": 3
   },
   "file_extension": ".py",
   "mimetype": "text/x-python",
   "name": "python",
   "nbconvert_exporter": "python",
   "pygments_lexer": "ipython3",
   "version": "3.8.5"
  }
 },
 "nbformat": 4,
 "nbformat_minor": 4
}
