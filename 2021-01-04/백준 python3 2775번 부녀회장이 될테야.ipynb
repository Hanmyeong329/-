{
 "cells": [
  {
   "cell_type": "code",
   "execution_count": 19,
   "metadata": {},
   "outputs": [
    {
     "name": "stdout",
     "output_type": "stream",
     "text": [
      "2\n",
      "1\n",
      "3\n",
      "6\n",
      "2\n",
      "3\n",
      "10\n"
     ]
    }
   ],
   "source": [
    "for x in range(int(input())):\n",
    "    arr=[]\n",
    "    c=1\n",
    "    a=int(input())\n",
    "    b=int(input())\n",
    "    for y in range(a+1):\n",
    "        arr.append([])\n",
    "        for z in range(b):\n",
    "            if y==0:\n",
    "                arr[y].append(c)\n",
    "                c+=1\n",
    "            else:\n",
    "                k=0\n",
    "                for i in range(z+1):\n",
    "                    k+=arr[y-1][i]\n",
    "                arr[y].append(k)\n",
    "    print(arr[a][b-1])"
   ]
  },
  {
   "cell_type": "markdown",
   "metadata": {},
   "source": [
    "#### "
   ]
  }
 ],
 "metadata": {
  "kernelspec": {
   "display_name": "Python 3",
   "language": "python",
   "name": "python3"
  },
  "language_info": {
   "codemirror_mode": {
    "name": "ipython",
    "version": 3
   },
   "file_extension": ".py",
   "mimetype": "text/x-python",
   "name": "python",
   "nbconvert_exporter": "python",
   "pygments_lexer": "ipython3",
   "version": "3.8.5"
  }
 },
 "nbformat": 4,
 "nbformat_minor": 4
}
