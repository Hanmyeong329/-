{
 "cells": [
  {
   "cell_type": "code",
   "execution_count": 7,
   "metadata": {},
   "outputs": [
    {
     "name": "stdout",
     "output_type": "stream",
     "text": [
      "10 20\n",
      "30 20\n",
      "10 10\n",
      "30 10\n"
     ]
    }
   ],
   "source": [
    "x=[]\n",
    "y=[]\n",
    "for _ in range(3):\n",
    "    a,b=map(int,input().split())\n",
    "    if a not in x:\n",
    "        x.append(a)\n",
    "    elif a in x: \n",
    "        x.remove(a)\n",
    "    if b not in y:\n",
    "        y.append(b)\n",
    "    elif b in y:\n",
    "        y.remove(b)\n",
    "print(x[0],y[0])\n",
    "    "
   ]
  },
  {
   "cell_type": "code",
   "execution_count": null,
   "metadata": {},
   "outputs": [],
   "source": []
  }
 ],
 "metadata": {
  "kernelspec": {
   "display_name": "Python 3",
   "language": "python",
   "name": "python3"
  },
  "language_info": {
   "codemirror_mode": {
    "name": "ipython",
    "version": 3
   },
   "file_extension": ".py",
   "mimetype": "text/x-python",
   "name": "python",
   "nbconvert_exporter": "python",
   "pygments_lexer": "ipython3",
   "version": "3.8.5"
  }
 },
 "nbformat": 4,
 "nbformat_minor": 4
}
