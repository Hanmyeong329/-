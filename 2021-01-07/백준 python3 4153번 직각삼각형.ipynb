{
 "cells": [
  {
   "cell_type": "code",
   "execution_count": 7,
   "metadata": {},
   "outputs": [
    {
     "name": "stdout",
     "output_type": "stream",
     "text": [
      "6 10 8\n",
      "right\n",
      "3 5 4\n",
      "right\n",
      "0 0 0\n"
     ]
    }
   ],
   "source": [
    "def jg(list):\n",
    "    if list[0]**2+list[1]**2==list[2]**2:\n",
    "        return 'right'\n",
    "    else:return 'wrong'\n",
    "\n",
    "while True:\n",
    "    a=sorted(list(map(int,input().split())))\n",
    "    if a[0]==0 and a[1]==0 and a[2]==0:\n",
    "        break\n",
    "    else:\n",
    "        print(jg(a))"
   ]
  },
  {
   "cell_type": "code",
   "execution_count": null,
   "metadata": {},
   "outputs": [],
   "source": []
  }
 ],
 "metadata": {
  "kernelspec": {
   "display_name": "Python 3",
   "language": "python",
   "name": "python3"
  },
  "language_info": {
   "codemirror_mode": {
    "name": "ipython",
    "version": 3
   },
   "file_extension": ".py",
   "mimetype": "text/x-python",
   "name": "python",
   "nbconvert_exporter": "python",
   "pygments_lexer": "ipython3",
   "version": "3.8.5"
  }
 },
 "nbformat": 4,
 "nbformat_minor": 4
}
