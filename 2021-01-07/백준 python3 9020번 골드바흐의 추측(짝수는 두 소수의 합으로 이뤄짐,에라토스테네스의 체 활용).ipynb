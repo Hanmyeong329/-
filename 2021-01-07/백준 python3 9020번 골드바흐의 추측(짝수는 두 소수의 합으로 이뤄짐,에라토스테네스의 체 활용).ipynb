{
 "cells": [
  {
   "cell_type": "code",
   "execution_count": 55,
   "metadata": {},
   "outputs": [
    {
     "name": "stdout",
     "output_type": "stream",
     "text": [
      "3\n",
      "8\n",
      "3 5\n",
      "10\n",
      "5 5\n",
      "16\n",
      "5 11\n"
     ]
    }
   ],
   "source": [
    "def prime_list(n):\n",
    "    sieve = [True] * n\n",
    "    m = int(n ** 0.5)\n",
    "    for i in range(2, m + 1):\n",
    "        if sieve[i] == True:         \n",
    "            for j in range(i+i, n, i):\n",
    "                sieve[j] = False\n",
    "    return [i for i in range(2, n) if sieve[i] == True]\n",
    "for x in range(int(input())):\n",
    "    arr=[]\n",
    "    a=int(input())\n",
    "    k=prime_list(a)\n",
    "    t=[i for i in k if i<=(a//2)]\n",
    "    b=[i for i in k if i>=a//2]\n",
    "    for _ in reversed(t):\n",
    "        for c in b:\n",
    "            if _+c==a:\n",
    "                print(_,c)\n",
    "                break\n",
    "        if _+c==a:\n",
    "            break"
   ]
  },
  {
   "cell_type": "code",
   "execution_count": null,
   "metadata": {},
   "outputs": [],
   "source": []
  }
 ],
 "metadata": {
  "kernelspec": {
   "display_name": "Python 3",
   "language": "python",
   "name": "python3"
  },
  "language_info": {
   "codemirror_mode": {
    "name": "ipython",
    "version": 3
   },
   "file_extension": ".py",
   "mimetype": "text/x-python",
   "name": "python",
   "nbconvert_exporter": "python",
   "pygments_lexer": "ipython3",
   "version": "3.8.5"
  }
 },
 "nbformat": 4,
 "nbformat_minor": 4
}
