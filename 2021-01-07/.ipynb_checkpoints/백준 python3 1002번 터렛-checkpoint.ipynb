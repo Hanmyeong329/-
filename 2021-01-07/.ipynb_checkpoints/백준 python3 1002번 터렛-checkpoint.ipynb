{
 "cells": [
  {
   "cell_type": "code",
   "execution_count": 1,
   "metadata": {},
   "outputs": [
    {
     "name": "stdout",
     "output_type": "stream",
     "text": [
      "4\n",
      "0 0 13 40 0 37\n",
      "2\n",
      "0 0 3 0 7 4\n",
      "1\n",
      "1 1 1 1 1 5\n",
      "0\n",
      "1 1 1 1 1 1\n",
      "-1\n"
     ]
    }
   ],
   "source": [
    "for x in range(int(input())):\n",
    "    x1,y1,r1,x2,y2,r2=map(int,input().split())\n",
    "    \n",
    "    if x1==x2 and y1==y2 and r1==r2:\n",
    "        print(-1)\n",
    "    elif ((x1-x2)**2+(y1-y2)**2<(r1-r2)**2)  or (r1+r2)**2<(x1-x2)**2+(y1-y2)**2:\n",
    "        print(0)\n",
    "    elif ((r1+r2)**2==(x1-x2)**2+(y1-y2)**2) or ((x1-x2)**2+(y1-y2)**2==(r1-r2)**2):\n",
    "        print(1)\n",
    "    else:print(2)\n",
    "        "
   ]
  },
  {
   "cell_type": "code",
   "execution_count": null,
   "metadata": {},
   "outputs": [],
   "source": []
  }
 ],
 "metadata": {
  "kernelspec": {
   "display_name": "Python 3",
   "language": "python",
   "name": "python3"
  },
  "language_info": {
   "codemirror_mode": {
    "name": "ipython",
    "version": 3
   },
   "file_extension": ".py",
   "mimetype": "text/x-python",
   "name": "python",
   "nbconvert_exporter": "python",
   "pygments_lexer": "ipython3",
   "version": "3.8.5"
  }
 },
 "nbformat": 4,
 "nbformat_minor": 4
}
