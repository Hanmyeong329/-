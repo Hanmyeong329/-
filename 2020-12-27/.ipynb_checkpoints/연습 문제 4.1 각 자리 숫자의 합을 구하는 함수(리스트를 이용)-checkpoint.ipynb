{
 "cells": [
  {
   "cell_type": "code",
   "execution_count": 5,
   "metadata": {},
   "outputs": [
    {
     "name": "stdout",
     "output_type": "stream",
     "text": [
      "숫자:1234\n",
      "[1, 2, 3, 4]\n"
     ]
    },
    {
     "data": {
      "text/plain": [
       "10"
      ]
     },
     "execution_count": 5,
     "metadata": {},
     "output_type": "execute_result"
    }
   ],
   "source": [
    "from functools import reduce\n",
    "cha=[]\n",
    "ra=input('숫자:')\n",
    "for x in ra:\n",
    "    cha.append(x)\n",
    "a=list(map(int,cha))\n",
    "print(a)\n",
    "reduce(lambda x,y:x+y,a)"
   ]
  },
  {
   "cell_type": "code",
   "execution_count": 6,
   "metadata": {},
   "outputs": [
    {
     "name": "stdout",
     "output_type": "stream",
     "text": [
      "숫자:1234\n",
      "[1, 2, 3, 4]\n",
      "10\n"
     ]
    }
   ],
   "source": [
    "\n",
    "cha=[]\n",
    "ra=input('숫자:')\n",
    "for x in ra:\n",
    "    cha.append(x)\n",
    "a=list(map(int,cha))\n",
    "print(a)\n",
    "k=0\n",
    "for i in a:\n",
    "    k+=i\n",
    "print(k)\n",
    "    "
   ]
  },
  {
   "cell_type": "code",
   "execution_count": 7,
   "metadata": {},
   "outputs": [
    {
     "name": "stdout",
     "output_type": "stream",
     "text": [
      "숫자:1234\n",
      "['1', '2', '3', '4']\n",
      "10\n"
     ]
    }
   ],
   "source": [
    "cha=[]\n",
    "t = 0\n",
    "ra=input('숫자:')\n",
    "for x in ra:\n",
    "    cha.append(x)\n",
    "print(cha)\n",
    "for k in cha:\n",
    "        t += int(k)\n",
    "print(t)"
   ]
  },
  {
   "cell_type": "code",
   "execution_count": null,
   "metadata": {},
   "outputs": [],
   "source": []
  }
 ],
 "metadata": {
  "kernelspec": {
   "display_name": "Python 3",
   "language": "python",
   "name": "python3"
  },
  "language_info": {
   "codemirror_mode": {
    "name": "ipython",
    "version": 3
   },
   "file_extension": ".py",
   "mimetype": "text/x-python",
   "name": "python",
   "nbconvert_exporter": "python",
   "pygments_lexer": "ipython3",
   "version": "3.8.5"
  }
 },
 "nbformat": 4,
 "nbformat_minor": 4
}
