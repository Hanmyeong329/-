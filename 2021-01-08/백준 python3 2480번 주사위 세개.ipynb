{
 "cells": [
  {
   "cell_type": "code",
   "execution_count": 20,
   "metadata": {},
   "outputs": [
    {
     "name": "stdout",
     "output_type": "stream",
     "text": [
      "6 5 5\n",
      "{6: 1, 5: 2}\n",
      "1500\n"
     ]
    }
   ],
   "source": [
    "a=list(map(int,input().split()))\n",
    "b={}\n",
    "for x in a:\n",
    "    b[x]=a.count(x)\n",
    "if len(b)==3:\n",
    "        t=sorted(a)\n",
    "        print(t[2]*100)\n",
    "else:        \n",
    "    for x in b:\n",
    "        if b[x]==3:\n",
    "            print(10000+x*1000)\n",
    "            break\n",
    "        elif b[x]==2:\n",
    "            print(1000+x*100)\n",
    "    \n",
    "        \n",
    "        \n"
   ]
  },
  {
   "cell_type": "code",
   "execution_count": null,
   "metadata": {},
   "outputs": [],
   "source": []
  }
 ],
 "metadata": {
  "kernelspec": {
   "display_name": "Python 3",
   "language": "python",
   "name": "python3"
  },
  "language_info": {
   "codemirror_mode": {
    "name": "ipython",
    "version": 3
   },
   "file_extension": ".py",
   "mimetype": "text/x-python",
   "name": "python",
   "nbconvert_exporter": "python",
   "pygments_lexer": "ipython3",
   "version": "3.8.5"
  }
 },
 "nbformat": 4,
 "nbformat_minor": 4
}
