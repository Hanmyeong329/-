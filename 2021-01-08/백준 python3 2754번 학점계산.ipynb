{
 "cells": [
  {
   "cell_type": "code",
   "execution_count": 7,
   "metadata": {},
   "outputs": [
    {
     "name": "stdout",
     "output_type": "stream",
     "text": [
      "C-\n",
      "1.7\n"
     ]
    }
   ],
   "source": [
    "arr={'A+': 4.3, 'A0': 4.0, 'A-': 3.7,\n",
    "'B+': 3.3, 'B0': 3.0, 'B-': 2.7,\n",
    "'C+': 2.3, 'C0': 2.0, 'C-': 1.7,\n",
    "'D+': 1.3, 'D0': 1.0, 'D-': 0.7,\n",
    "'F': 0.0}\n",
    "print(arr[input()])"
   ]
  }
 ],
 "metadata": {
  "kernelspec": {
   "display_name": "Python 3",
   "language": "python",
   "name": "python3"
  },
  "language_info": {
   "codemirror_mode": {
    "name": "ipython",
    "version": 3
   },
   "file_extension": ".py",
   "mimetype": "text/x-python",
   "name": "python",
   "nbconvert_exporter": "python",
   "pygments_lexer": "ipython3",
   "version": "3.8.5"
  }
 },
 "nbformat": 4,
 "nbformat_minor": 4
}
