{
 "cells": [
  {
   "cell_type": "code",
   "execution_count": 13,
   "metadata": {},
   "outputs": [
    {
     "name": "stdout",
     "output_type": "stream",
     "text": [
      "6\n",
      "AAABBB\n",
      "Tie\n"
     ]
    }
   ],
   "source": [
    "a=int(input())\n",
    "b=list(str(input()))\n",
    "A=0\n",
    "B=0\n",
    "for x in range(a):\n",
    "    if b[x]=='A':\n",
    "        A+=1\n",
    "    else:\n",
    "        B+=1\n",
    "if A>B:\n",
    "    print('A')\n",
    "elif A<B:\n",
    "    print('B')\n",
    "else:\n",
    "    print('Tie')"
   ]
  },
  {
   "cell_type": "code",
   "execution_count": null,
   "metadata": {},
   "outputs": [],
   "source": []
  },
  {
   "cell_type": "code",
   "execution_count": null,
   "metadata": {},
   "outputs": [],
   "source": []
  }
 ],
 "metadata": {
  "kernelspec": {
   "display_name": "Python 3",
   "language": "python",
   "name": "python3"
  },
  "language_info": {
   "codemirror_mode": {
    "name": "ipython",
    "version": 3
   },
   "file_extension": ".py",
   "mimetype": "text/x-python",
   "name": "python",
   "nbconvert_exporter": "python",
   "pygments_lexer": "ipython3",
   "version": "3.8.5"
  }
 },
 "nbformat": 4,
 "nbformat_minor": 4
}
