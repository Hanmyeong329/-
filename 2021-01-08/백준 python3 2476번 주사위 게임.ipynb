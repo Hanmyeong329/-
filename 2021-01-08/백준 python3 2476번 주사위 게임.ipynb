{
 "cells": [
  {
   "cell_type": "code",
   "execution_count": 10,
   "metadata": {},
   "outputs": [
    {
     "name": "stdout",
     "output_type": "stream",
     "text": [
      "3\n",
      "3 3 6\n",
      "2 2 2\n",
      "6 2 5\n",
      "12000\n"
     ]
    }
   ],
   "source": [
    "def jsw(n):\n",
    "    b={}\n",
    "    for x in n:\n",
    "        b[x]=n.count(x)\n",
    "    if len(b)==3:\n",
    "            t=sorted(n)\n",
    "            return (t[2]*100)\n",
    "    else:        \n",
    "        for x in b:\n",
    "            if b[x]==3:\n",
    "                return (10000+x*1000)\n",
    "                break\n",
    "            elif b[x]==2:\n",
    "                return (1000+x*100)\n",
    "arr=[]\n",
    "for x in range(int(input())):\n",
    "    a=list(map(int,input().split()))\n",
    "    arr.append(jsw(a))\n",
    "c=sorted(arr)\n",
    "print(c[len(c)-1])"
   ]
  }
 ],
 "metadata": {
  "kernelspec": {
   "display_name": "Python 3",
   "language": "python",
   "name": "python3"
  },
  "language_info": {
   "codemirror_mode": {
    "name": "ipython",
    "version": 3
   },
   "file_extension": ".py",
   "mimetype": "text/x-python",
   "name": "python",
   "nbconvert_exporter": "python",
   "pygments_lexer": "ipython3",
   "version": "3.8.5"
  }
 },
 "nbformat": 4,
 "nbformat_minor": 4
}
