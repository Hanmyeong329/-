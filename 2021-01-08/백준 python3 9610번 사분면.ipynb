{
 "cells": [
  {
   "cell_type": "code",
   "execution_count": 11,
   "metadata": {},
   "outputs": [
    {
     "name": "stdout",
     "output_type": "stream",
     "text": [
      "2\n",
      "1 0\n",
      "2 3\n",
      "Q1: 1\n",
      "Q2: 0\n",
      "Q3: 0\n",
      "Q4: 0\n",
      "AXIS: 1\n"
     ]
    }
   ],
   "source": [
    "c={'Q1':0,'Q2':0,'Q3':0,'Q4':0,'AXIS':0}\n",
    "for x in range(int(input())):\n",
    "    a,b=map(int,input().split())\n",
    "    if a>0 and b>0:\n",
    "        c['Q1']+=1\n",
    "    elif a<0 and b>0:\n",
    "        c['Q2']+=1\n",
    "    elif a<0 and b<0:\n",
    "        c['Q3']+=1\n",
    "    elif a>0 and b<0:\n",
    "        c['Q4']+=1\n",
    "    else:\n",
    "        c['AXIS']+=1\n",
    "for key, value in c.items():\n",
    "    print('%s: %s'%(key,value))"
   ]
  },
  {
   "cell_type": "code",
   "execution_count": null,
   "metadata": {},
   "outputs": [],
   "source": [
    "5 0 0 0 1 1 1 3 -3 2 2"
   ]
  }
 ],
 "metadata": {
  "kernelspec": {
   "display_name": "Python 3",
   "language": "python",
   "name": "python3"
  },
  "language_info": {
   "codemirror_mode": {
    "name": "ipython",
    "version": 3
   },
   "file_extension": ".py",
   "mimetype": "text/x-python",
   "name": "python",
   "nbconvert_exporter": "python",
   "pygments_lexer": "ipython3",
   "version": "3.8.5"
  }
 },
 "nbformat": 4,
 "nbformat_minor": 4
}
