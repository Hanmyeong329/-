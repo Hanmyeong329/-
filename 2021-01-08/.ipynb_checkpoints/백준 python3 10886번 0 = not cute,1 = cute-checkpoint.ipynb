{
 "cells": [
  {
   "cell_type": "code",
   "execution_count": 10,
   "metadata": {},
   "outputs": [
    {
     "name": "stdout",
     "output_type": "stream",
     "text": [
      "3\n",
      "1\n",
      "0\n",
      "0\n",
      "Junhee is not cute!\n"
     ]
    }
   ],
   "source": [
    "a=0\n",
    "b=0\n",
    "for x in range(int(input())):\n",
    "    if input()=='1':\n",
    "        a+=1\n",
    "    else:\n",
    "        b+=1\n",
    "print('Junhee is cute!' if a>b else 'Junhee is not cute!')"
   ]
  }
 ],
 "metadata": {
  "kernelspec": {
   "display_name": "Python 3",
   "language": "python",
   "name": "python3"
  },
  "language_info": {
   "codemirror_mode": {
    "name": "ipython",
    "version": 3
   },
   "file_extension": ".py",
   "mimetype": "text/x-python",
   "name": "python",
   "nbconvert_exporter": "python",
   "pygments_lexer": "ipython3",
   "version": "3.8.5"
  }
 },
 "nbformat": 4,
 "nbformat_minor": 4
}
