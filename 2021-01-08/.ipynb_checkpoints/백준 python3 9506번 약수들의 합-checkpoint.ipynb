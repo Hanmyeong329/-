{
 "cells": [
  {
   "cell_type": "code",
   "execution_count": 9,
   "metadata": {},
   "outputs": [
    {
     "name": "stdout",
     "output_type": "stream",
     "text": [
      "6\n",
      "6 = 1 + 2 + 3\n",
      "12\n",
      "12 is NOT perfect.\n",
      "28\n",
      "28 = 1 + 2 + 4 + 7 + 14\n",
      "-1\n"
     ]
    }
   ],
   "source": [
    "def wan(n):\n",
    "    arr=[]\n",
    "    for x in range(1,n//2+1):\n",
    "        if n%x==0:\n",
    "            arr.append(x)\n",
    "        else:pass\n",
    "    return arr\n",
    "\n",
    "def hap(n):\n",
    "    sum=0\n",
    "    for x in range(1,n//2+1):\n",
    "        if n%x==0:\n",
    "            sum+=x\n",
    "        else:pass\n",
    "    return sum\n",
    "\n",
    "while True:\n",
    "    a=int(input())\n",
    "    if a==-1:\n",
    "        break\n",
    "    elif a==hap(a):\n",
    "        print(a,'=',' + '.join(map(str,wan(a))))\n",
    "    elif a!=hap(a):\n",
    "        print(a,'is NOT perfect.')"
   ]
  }
 ],
 "metadata": {
  "kernelspec": {
   "display_name": "Python 3",
   "language": "python",
   "name": "python3"
  },
  "language_info": {
   "codemirror_mode": {
    "name": "ipython",
    "version": 3
   },
   "file_extension": ".py",
   "mimetype": "text/x-python",
   "name": "python",
   "nbconvert_exporter": "python",
   "pygments_lexer": "ipython3",
   "version": "3.8.5"
  }
 },
 "nbformat": 4,
 "nbformat_minor": 4
}
