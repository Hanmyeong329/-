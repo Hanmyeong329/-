{
 "cells": [
  {
   "cell_type": "code",
   "execution_count": 1,
   "metadata": {},
   "outputs": [
    {
     "name": "stdout",
     "output_type": "stream",
     "text": [
      "3\n",
      "0 100 70\n",
      "advertise\n",
      "100 130 30\n",
      "does not matter\n",
      "-100 -70 40\n",
      "do not advertise\n"
     ]
    }
   ],
   "source": [
    "for x in range(int(input())):\n",
    "    a,b,c=map(int,input().split())\n",
    "    if a==b-c:\n",
    "        print(\"does not matter\")\n",
    "    elif a>b-c:\n",
    "        print('do not advertise')\n",
    "    else:print('advertise')"
   ]
  },
  {
   "cell_type": "code",
   "execution_count": null,
   "metadata": {},
   "outputs": [],
   "source": []
  }
 ],
 "metadata": {
  "kernelspec": {
   "display_name": "Python 3",
   "language": "python",
   "name": "python3"
  },
  "language_info": {
   "codemirror_mode": {
    "name": "ipython",
    "version": 3
   },
   "file_extension": ".py",
   "mimetype": "text/x-python",
   "name": "python",
   "nbconvert_exporter": "python",
   "pygments_lexer": "ipython3",
   "version": "3.8.5"
  }
 },
 "nbformat": 4,
 "nbformat_minor": 4
}
