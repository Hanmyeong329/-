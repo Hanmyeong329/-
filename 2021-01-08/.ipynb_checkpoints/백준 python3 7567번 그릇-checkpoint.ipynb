{
 "cells": [
  {
   "cell_type": "code",
   "execution_count": 10,
   "metadata": {},
   "outputs": [
    {
     "name": "stdout",
     "output_type": "stream",
     "text": [
      "()()\n",
      "40\n"
     ]
    }
   ],
   "source": [
    "arr=str(input())\n",
    "k=10\n",
    "for x in range(1,len(arr)):\n",
    "    if arr[x-1]==arr[x]:\n",
    "        k+=5\n",
    "    else:\n",
    "        k+=10\n",
    "print(k)"
   ]
  }
 ],
 "metadata": {
  "kernelspec": {
   "display_name": "Python 3",
   "language": "python",
   "name": "python3"
  }
 },
 "nbformat": 4,
 "nbformat_minor": 4
}
