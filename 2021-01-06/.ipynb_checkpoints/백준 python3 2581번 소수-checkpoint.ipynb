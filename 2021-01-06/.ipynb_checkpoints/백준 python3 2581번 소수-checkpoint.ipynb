{
 "cells": [
  {
   "cell_type": "code",
   "execution_count": 11,
   "metadata": {},
   "outputs": [
    {
     "name": "stdout",
     "output_type": "stream",
     "text": [
      "1\n",
      "5\n",
      "10\n",
      "2\n"
     ]
    }
   ],
   "source": [
    "from functools import reduce\n",
    "arr=[]\n",
    "for x in range(int(input()),int(input())+1):\n",
    "    if x==1:\n",
    "        continue\n",
    "    elif x==2:\n",
    "        arr.append(x)\n",
    "    else:\n",
    "        for y in range(2,x):\n",
    "            if x%y==0:\n",
    "                break\n",
    "            elif x==y+1:\n",
    "                arr.append(x)\n",
    "                \n",
    "if len(arr)==0:\n",
    "    print(-1)\n",
    "else:\n",
    "    b=reduce(lambda x,y:x+y,arr)\n",
    "    print(b)\n",
    "    print(arr[0])\n"
   ]
  },
  {
   "cell_type": "code",
   "execution_count": null,
   "metadata": {},
   "outputs": [],
   "source": []
  }
 ],
 "metadata": {
  "kernelspec": {
   "display_name": "Python 3",
   "language": "python",
   "name": "python3"
  },
  "language_info": {
   "codemirror_mode": {
    "name": "ipython",
    "version": 3
   },
   "file_extension": ".py",
   "mimetype": "text/x-python",
   "name": "python",
   "nbconvert_exporter": "python",
   "pygments_lexer": "ipython3",
   "version": "3.8.5"
  }
 },
 "nbformat": 4,
 "nbformat_minor": 4
}
