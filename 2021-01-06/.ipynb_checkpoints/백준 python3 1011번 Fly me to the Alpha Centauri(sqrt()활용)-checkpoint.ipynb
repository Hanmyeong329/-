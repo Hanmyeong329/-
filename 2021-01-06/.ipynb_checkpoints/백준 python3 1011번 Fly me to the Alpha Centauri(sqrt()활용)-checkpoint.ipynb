{
 "cells": [
  {
   "cell_type": "code",
   "execution_count": 57,
   "metadata": {},
   "outputs": [
    {
     "name": "stdout",
     "output_type": "stream",
     "text": [
      "3\n",
      "0 3\n",
      "3\n",
      "1 5\n",
      "3\n",
      "23 56\n",
      "11\n"
     ]
    }
   ],
   "source": [
    "import math\n",
    "for x in range(int(input())):\n",
    "    a,b=map(int,input().split())\n",
    "    k=round(math.sqrt(b-a))\n",
    "    if (k**2)-k+1<=(b-a)<=k**2:\n",
    "        print(2*k-1)\n",
    "    elif (k**2)+1<=(b-a)<=k**2+k:\n",
    "        print(2*k)"
   ]
  },
  {
   "cell_type": "code",
   "execution_count": null,
   "metadata": {},
   "outputs": [],
   "source": []
  }
 ],
 "metadata": {
  "kernelspec": {
   "display_name": "Python 3",
   "language": "python",
   "name": "python3"
  },
  "language_info": {
   "codemirror_mode": {
    "name": "ipython",
    "version": 3
   },
   "file_extension": ".py",
   "mimetype": "text/x-python",
   "name": "python",
   "nbconvert_exporter": "python",
   "pygments_lexer": "ipython3",
   "version": "3.8.5"
  }
 },
 "nbformat": 4,
 "nbformat_minor": 4
}
