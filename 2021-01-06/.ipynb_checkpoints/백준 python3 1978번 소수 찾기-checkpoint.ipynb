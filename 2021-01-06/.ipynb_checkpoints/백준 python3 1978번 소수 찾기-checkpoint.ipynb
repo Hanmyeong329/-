{
 "cells": [
  {
   "cell_type": "code",
   "execution_count": 47,
   "metadata": {},
   "outputs": [
    {
     "name": "stdout",
     "output_type": "stream",
     "text": [
      "4\n",
      "1 2 3 5\n",
      "3\n"
     ]
    }
   ],
   "source": [
    "a=int(input())\n",
    "arr=[]\n",
    "arr[0:]=map(int,input().split())\n",
    "k=0\n",
    "for x in arr:\n",
    "    if x==1:\n",
    "        k+=0\n",
    "        continue\n",
    "    elif x==2:\n",
    "        k+=1\n",
    "    else:\n",
    "        for y in range(2,x):\n",
    "            if x%y==0:\n",
    "                break\n",
    "            elif x==y+1:\n",
    "                k+=1\n",
    "print(k)"
   ]
  },
  {
   "cell_type": "code",
   "execution_count": null,
   "metadata": {},
   "outputs": [],
   "source": []
  },
  {
   "cell_type": "code",
   "execution_count": null,
   "metadata": {},
   "outputs": [],
   "source": []
  }
 ],
 "metadata": {
  "kernelspec": {
   "display_name": "Python 3",
   "language": "python",
   "name": "python3"
  },
  "language_info": {
   "codemirror_mode": {
    "name": "ipython",
    "version": 3
   },
   "file_extension": ".py",
   "mimetype": "text/x-python",
   "name": "python",
   "nbconvert_exporter": "python",
   "pygments_lexer": "ipython3",
   "version": "3.8.5"
  }
 },
 "nbformat": 4,
 "nbformat_minor": 4
}
