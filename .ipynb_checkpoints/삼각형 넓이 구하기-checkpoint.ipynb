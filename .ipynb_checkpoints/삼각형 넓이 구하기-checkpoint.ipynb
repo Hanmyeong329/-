{
 "cells": [
  {
   "cell_type": "code",
   "execution_count": 4,
   "metadata": {},
   "outputs": [
    {
     "name": "stdout",
     "output_type": "stream",
     "text": [
      "밑변:3\n",
      "아랫변:5\n",
      "삼각형의 넓이는 7.5 이다.\n"
     ]
    }
   ],
   "source": [
    "def tri(base,hei):\n",
    "    y=base*hei*1/2\n",
    "    print('삼각형의 넓이는',y,'이다.')\n",
    "\n",
    "x=int(input('밑변:'))\n",
    "y=int(input('아랫변:'))\n",
    "tri(x,y)"
   ]
  },
  {
   "cell_type": "code",
   "execution_count": null,
   "metadata": {},
   "outputs": [],
   "source": []
  }
 ],
 "metadata": {
  "kernelspec": {
   "display_name": "Python 3",
   "language": "python",
   "name": "python3"
  },
  "language_info": {
   "codemirror_mode": {
    "name": "ipython",
    "version": 3
   },
   "file_extension": ".py",
   "mimetype": "text/x-python",
   "name": "python",
   "nbconvert_exporter": "python",
   "pygments_lexer": "ipython3",
   "version": "3.8.5"
  }
 },
 "nbformat": 4,
 "nbformat_minor": 4
}
