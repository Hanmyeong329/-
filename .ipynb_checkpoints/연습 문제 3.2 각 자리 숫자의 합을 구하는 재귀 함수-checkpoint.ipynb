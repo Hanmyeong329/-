{
 "cells": [
  {
   "cell_type": "code",
   "execution_count": 29,
   "metadata": {},
   "outputs": [
    {
     "name": "stdout",
     "output_type": "stream",
     "text": [
      "숫자:47253\n",
      "21\n"
     ]
    }
   ],
   "source": [
    "\n",
    "def sumOfDigits(x):\n",
    "    a=int(x%10)\n",
    "    b=int(x//10)\n",
    "    if x>0:\n",
    "        return a+sumOfDigits(b)\n",
    "    else:\n",
    "        return 0\n",
    "    \n",
    "        \n",
    "\n",
    "i=int(input(\"숫자:\"))\n",
    "print(sumOfDigits(i))"
   ]
  },
  {
   "cell_type": "code",
   "execution_count": null,
   "metadata": {},
   "outputs": [],
   "source": []
  }
 ],
 "metadata": {
  "kernelspec": {
   "display_name": "Python 3",
   "language": "python",
   "name": "python3"
  },
  "language_info": {
   "codemirror_mode": {
    "name": "ipython",
    "version": 3
   },
   "file_extension": ".py",
   "mimetype": "text/x-python",
   "name": "python",
   "nbconvert_exporter": "python",
   "pygments_lexer": "ipython3",
   "version": "3.8.5"
  }
 },
 "nbformat": 4,
 "nbformat_minor": 4
}
