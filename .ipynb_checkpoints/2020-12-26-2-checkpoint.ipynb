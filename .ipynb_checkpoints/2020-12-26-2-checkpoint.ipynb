{
 "cells": [
  {
   "cell_type": "code",
   "execution_count": 1,
   "metadata": {},
   "outputs": [
    {
     "name": "stdout",
     "output_type": "stream",
     "text": [
      "입력:10 20\n",
      "15\n",
      "Nothing to report\n",
      "20\n",
      "Nothing to report\n",
      "3\n",
      "Alert\n"
     ]
    }
   ],
   "source": [
    "min,max=map(int,input('입력:').split())\n",
    "\n",
    "i=int(input())\n",
    "\n",
    "while i != -999:\n",
    "    if min<=i<=max:\n",
    "        print(\"Nothing to report\")\n",
    "        i=int(input())\n",
    "    else :\n",
    "        print(\"Alert\")\n",
    "        break\n",
    "        "
   ]
  },
  {
   "cell_type": "code",
   "execution_count": null,
   "metadata": {},
   "outputs": [],
   "source": []
  }
 ],
 "metadata": {
  "kernelspec": {
   "display_name": "Python 3",
   "language": "python",
   "name": "python3"
  },
  "language_info": {
   "codemirror_mode": {
    "name": "ipython",
    "version": 3
   },
   "file_extension": ".py",
   "mimetype": "text/x-python",
   "name": "python",
   "nbconvert_exporter": "python",
   "pygments_lexer": "ipython3",
   "version": "3.8.5"
  }
 },
 "nbformat": 4,
 "nbformat_minor": 4
}
