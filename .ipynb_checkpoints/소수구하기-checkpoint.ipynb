{
 "cells": [
  {
   "cell_type": "code",
   "execution_count": 18,
   "metadata": {},
   "outputs": [
    {
     "name": "stdout",
     "output_type": "stream",
     "text": [
      "입력:10\n",
      "2\n",
      "3\n",
      "5\n",
      "7\n"
     ]
    }
   ],
   "source": [
    "i=int(input(\"입력:\"))\n",
    "L=list(range(2,i+1))\n",
    "for x in range(2,i+1):\n",
    "    for y in range(2,x):\n",
    "        if x%y==0:\n",
    "            L.remove(x)\n",
    "            break\n",
    "            \n",
    "for k in L:\n",
    "    print(k)"
   ]
  },
  {
   "cell_type": "code",
   "execution_count": null,
   "metadata": {},
   "outputs": [],
   "source": [
    "min, max=map(int,input('입력:').split())\n",
    "\n",
    "while i!=-999:\n",
    "    i=int(input())\n",
    "    if i>=min and i<=max:\n",
    "        print(\"Nothing to report\")\n",
    "    else:\n",
    "        print(\"Alert\")\n",
    "        \n",
    "    "
   ]
  },
  {
   "cell_type": "code",
   "execution_count": null,
   "metadata": {},
   "outputs": [],
   "source": []
  }
 ],
 "metadata": {
  "kernelspec": {
   "display_name": "Python 3",
   "language": "python",
   "name": "python3"
  },
  "language_info": {
   "codemirror_mode": {
    "name": "ipython",
    "version": 3
   },
   "file_extension": ".py",
   "mimetype": "text/x-python",
   "name": "python",
   "nbconvert_exporter": "python",
   "pygments_lexer": "ipython3",
   "version": "3.8.5"
  }
 },
 "nbformat": 4,
 "nbformat_minor": 4
}
