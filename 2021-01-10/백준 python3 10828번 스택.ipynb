{
 "cells": [
  {
   "cell_type": "code",
   "execution_count": 18,
   "metadata": {},
   "outputs": [
    {
     "name": "stdout",
     "output_type": "stream",
     "text": [
      "14\n",
      "push 1\n",
      "['push', '1']\n",
      "push 2\n",
      "['push', '2']\n",
      "top\n",
      "['top']\n",
      "2\n",
      "size\n",
      "['size']\n",
      "2\n",
      "empty\n",
      "['empty']\n",
      "0\n",
      "pop\n",
      "['pop']\n",
      "2\n",
      "pop\n",
      "['pop']\n",
      "1\n",
      "pop\n",
      "['pop']\n",
      "-1\n",
      "size\n",
      "['size']\n",
      "0\n",
      "empty\n",
      "['empty']\n",
      "1\n",
      "pop\n",
      "['pop']\n",
      "-1\n",
      "push 3\n",
      "['push', '3']\n",
      "empty\n",
      "['empty']\n",
      "0\n",
      "top\n",
      "['top']\n",
      "3\n"
     ]
    }
   ],
   "source": [
    "import sys\n",
    "arr=[]\n",
    "for x in range(int(sys.stdin.readline())):\n",
    "    a=list(sys.stdin.readline().split())\n",
    "    if len(a)==2:\n",
    "        if a[0]=='push':\n",
    "            arr.append(int(a[1]))\n",
    "    elif len(a)==1:\n",
    "        if a[0]=='pop':\n",
    "            if arr:\n",
    "                print(arr.pop())\n",
    "            else:print(-1)\n",
    "        elif a[0]=='size':\n",
    "            print(len(arr))\n",
    "        elif a[0]=='empty':\n",
    "            if not arr:\n",
    "                print(1)\n",
    "            else:\n",
    "                print(0)\n",
    "        elif a[0]=='top':\n",
    "            if arr:\n",
    "                print(arr[len(arr)-1])\n",
    "            else:\n",
    "                print(-1)\n",
    "\n"
   ]
  },
  {
   "cell_type": "code",
   "execution_count": null,
   "metadata": {},
   "outputs": [],
   "source": []
  },
  {
   "cell_type": "code",
   "execution_count": null,
   "metadata": {},
   "outputs": [],
   "source": [
    "\n"
   ]
  }
 ],
 "metadata": {
  "kernelspec": {
   "display_name": "Python 3",
   "language": "python",
   "name": "python3"
  },
  "language_info": {
   "codemirror_mode": {
    "name": "ipython",
    "version": 3
   },
   "file_extension": ".py",
   "mimetype": "text/x-python",
   "name": "python",
   "nbconvert_exporter": "python",
   "pygments_lexer": "ipython3",
   "version": "3.8.5"
  }
 },
 "nbformat": 4,
 "nbformat_minor": 4
}
