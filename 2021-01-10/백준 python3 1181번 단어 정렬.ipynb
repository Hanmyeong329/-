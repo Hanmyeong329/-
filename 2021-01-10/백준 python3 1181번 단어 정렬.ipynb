{
 "cells": [
  {
   "cell_type": "code",
   "execution_count": 14,
   "metadata": {},
   "outputs": [
    {
     "name": "stdout",
     "output_type": "stream",
     "text": [
      "5\n",
      "ib\n",
      "ia\n",
      "ic\n",
      "iaa\n",
      "iaa\n",
      "ia\n",
      "ib\n",
      "ic\n",
      "iaa\n"
     ]
    }
   ],
   "source": [
    "arr=[]\n",
    "for x in range(int(input())):\n",
    "    a=input()\n",
    "    arr.append(a)\n",
    "arr=sorted(set(arr))\n",
    "for _ in sorted(arr,key=len):\n",
    "    print(_)"
   ]
  },
  {
   "cell_type": "code",
   "execution_count": null,
   "metadata": {},
   "outputs": [],
   "source": []
  }
 ],
 "metadata": {
  "kernelspec": {
   "display_name": "Python 3",
   "language": "python",
   "name": "python3"
  },
  "language_info": {
   "codemirror_mode": {
    "name": "ipython",
    "version": 3
   },
   "file_extension": ".py",
   "mimetype": "text/x-python",
   "name": "python",
   "nbconvert_exporter": "python",
   "pygments_lexer": "ipython3",
   "version": "3.8.5"
  }
 },
 "nbformat": 4,
 "nbformat_minor": 4
}
