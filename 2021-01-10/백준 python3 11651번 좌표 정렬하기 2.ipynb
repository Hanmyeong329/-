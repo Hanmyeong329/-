{
 "cells": [
  {
   "cell_type": "code",
   "execution_count": 4,
   "metadata": {},
   "outputs": [
    {
     "name": "stdout",
     "output_type": "stream",
     "text": [
      "5\n",
      "0 4\n",
      "2 3\n",
      "3 3\n",
      "1 4\n",
      "3 0\n",
      "3 0\n",
      "2 3\n",
      "3 3\n",
      "0 4\n",
      "1 4\n"
     ]
    }
   ],
   "source": [
    "import sys\n",
    "dic={}\n",
    "for x in range(int(sys.stdin.readline())):\n",
    "    a,b=map(int,sys.stdin.readline().split())\n",
    "    if b not in dic:\n",
    "        dic[b]=[]\n",
    "        dic[b].append(a)\n",
    "    else:dic[b].append(a)\n",
    "for x,y in sorted(dic.items()):\n",
    "    for _ in sorted(y):\n",
    "        print(_,x)"
   ]
  },
  {
   "cell_type": "code",
   "execution_count": null,
   "metadata": {},
   "outputs": [],
   "source": []
  }
 ],
 "metadata": {
  "kernelspec": {
   "display_name": "Python 3",
   "language": "python",
   "name": "python3"
  },
  "language_info": {
   "codemirror_mode": {
    "name": "ipython",
    "version": 3
   },
   "file_extension": ".py",
   "mimetype": "text/x-python",
   "name": "python",
   "nbconvert_exporter": "python",
   "pygments_lexer": "ipython3",
   "version": "3.8.5"
  }
 },
 "nbformat": 4,
 "nbformat_minor": 4
}
