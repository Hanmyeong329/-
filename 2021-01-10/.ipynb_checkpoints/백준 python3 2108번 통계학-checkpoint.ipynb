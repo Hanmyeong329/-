{
 "cells": [
  {
   "cell_type": "code",
   "execution_count": 29,
   "metadata": {},
   "outputs": [
    {
     "name": "stdout",
     "output_type": "stream",
     "text": [
      "5\n",
      "2\n",
      "2\n",
      "1\n",
      "1\n",
      "3\n"
     ]
    }
   ],
   "source": [
    "import sys\n",
    "n=int(sys.stdin.readline())\n",
    "ar={}\n",
    "arr=[]\n",
    "for x in range(n):\n",
    "    a=int(sys.stdin.readline())\n",
    "    arr.append(a)\n",
    "    if a not in ar:\n",
    "        ar[a]=1\n",
    "    else:\n",
    "        ar[a]+=1\n",
    "arr.sort()\n",
    "print(round(sum(arr)/n)) #산술평균\n",
    "print(arr[n//2]) #중앙값\n",
    "max(ar,key=ar.get)\n",
    "sr_ar=sorted([k for k,v in ar.items() if max(ar.values()) == v])\n",
    "if len(sr_ar)==1:\n",
    "    print(sr_ar[0])\n",
    "else:print(sr_ar[1])\n",
    "print(arr[len(arr)-1]-arr[0]) #범위\n"
   ]
  }
 ],
 "metadata": {
  "kernelspec": {
   "display_name": "Python 3",
   "language": "python",
   "name": "python3"
  },
  "language_info": {
   "codemirror_mode": {
    "name": "ipython",
    "version": 3
   },
   "file_extension": ".py",
   "mimetype": "text/x-python",
   "name": "python",
   "nbconvert_exporter": "python",
   "pygments_lexer": "ipython3",
   "version": "3.8.5"
  }
 },
 "nbformat": 4,
 "nbformat_minor": 4
}
