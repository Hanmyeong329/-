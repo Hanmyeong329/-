{
 "cells": [
  {
   "cell_type": "code",
   "execution_count": 8,
   "metadata": {},
   "outputs": [
    {
     "name": "stdout",
     "output_type": "stream",
     "text": [
      "2\n",
      "2\n",
      "r 5\n",
      "e 3\n",
      "r\n",
      "3\n",
      "t 10\n",
      "y 1000\n",
      "h 1\n",
      "y\n"
     ]
    }
   ],
   "source": [
    "for x in range(int(input())):\n",
    "    dic={}\n",
    "    for y in range(int(input())):\n",
    "        a,b=input().split()\n",
    "        dic[a]=int(b)\n",
    "    b=sorted(dic.items(), key=lambda x: x[1], reverse=True)\n",
    "    print(b[0][0])\n",
    "        \n",
    "        "
   ]
  },
  {
   "cell_type": "code",
   "execution_count": null,
   "metadata": {},
   "outputs": [],
   "source": []
  }
 ],
 "metadata": {
  "kernelspec": {
   "display_name": "Python 3",
   "language": "python",
   "name": "python3"
  },
  "language_info": {
   "codemirror_mode": {
    "name": "ipython",
    "version": 3
   },
   "file_extension": ".py",
   "mimetype": "text/x-python",
   "name": "python",
   "nbconvert_exporter": "python",
   "pygments_lexer": "ipython3",
   "version": "3.8.5"
  }
 },
 "nbformat": 4,
 "nbformat_minor": 4
}
