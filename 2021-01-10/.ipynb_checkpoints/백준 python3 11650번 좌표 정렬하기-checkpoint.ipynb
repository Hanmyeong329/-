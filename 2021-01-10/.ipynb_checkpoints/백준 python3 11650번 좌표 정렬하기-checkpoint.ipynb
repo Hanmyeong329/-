{
 "cells": [
  {
   "cell_type": "code",
   "execution_count": 3,
   "metadata": {},
   "outputs": [
    {
     "name": "stdout",
     "output_type": "stream",
     "text": [
      "5\n",
      "3 4\n",
      "1 1\n",
      "2 2\n",
      "1 -1\n",
      "3 3\n",
      "1 -1\n",
      "1 1\n",
      "2 2\n",
      "3 3\n",
      "3 4\n"
     ]
    }
   ],
   "source": [
    "import sys\n",
    "dic={}\n",
    "for x in range(int(sys.stdin.readline())):\n",
    "    a,b=map(int,sys.stdin.readline().split())\n",
    "    if a not in dic:\n",
    "        dic[a]=[]\n",
    "        dic[a].append(b)\n",
    "    else:dic[a].append(b)\n",
    "for x,y in sorted(dic.items()):\n",
    "    for _ in sorted(y):\n",
    "        print(x,_)"
   ]
  },
  {
   "cell_type": "code",
   "execution_count": null,
   "metadata": {},
   "outputs": [],
   "source": []
  }
 ],
 "metadata": {
  "kernelspec": {
   "display_name": "Python 3",
   "language": "python",
   "name": "python3"
  },
  "language_info": {
   "codemirror_mode": {
    "name": "ipython",
    "version": 3
   },
   "file_extension": ".py",
   "mimetype": "text/x-python",
   "name": "python",
   "nbconvert_exporter": "python",
   "pygments_lexer": "ipython3",
   "version": "3.8.5"
  }
 },
 "nbformat": 4,
 "nbformat_minor": 4
}
