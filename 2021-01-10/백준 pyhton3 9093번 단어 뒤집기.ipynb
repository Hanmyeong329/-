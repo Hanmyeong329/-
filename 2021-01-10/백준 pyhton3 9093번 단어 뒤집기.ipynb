{
 "cells": [
  {
   "cell_type": "code",
   "execution_count": 9,
   "metadata": {},
   "outputs": [
    {
     "name": "stdout",
     "output_type": "stream",
     "text": [
      "2\n",
      "I am happy today\n",
      "I ma yppah yadot We want to win the first prize\n",
      "eW tnaw ot niw eht tsrif ezirp "
     ]
    }
   ],
   "source": [
    "import sys\n",
    "for _ in range(int(sys.stdin.readline())):\n",
    "    a=list(sys.stdin.readline().split())\n",
    "    for _ in a:\n",
    "        print(_[::-1],end=' ')\n",
    "        "
   ]
  },
  {
   "cell_type": "code",
   "execution_count": null,
   "metadata": {},
   "outputs": [],
   "source": []
  }
 ],
 "metadata": {
  "kernelspec": {
   "display_name": "Python 3",
   "language": "python",
   "name": "python3"
  },
  "language_info": {
   "codemirror_mode": {
    "name": "ipython",
    "version": 3
   },
   "file_extension": ".py",
   "mimetype": "text/x-python",
   "name": "python",
   "nbconvert_exporter": "python",
   "pygments_lexer": "ipython3",
   "version": "3.8.5"
  }
 },
 "nbformat": 4,
 "nbformat_minor": 4
}
