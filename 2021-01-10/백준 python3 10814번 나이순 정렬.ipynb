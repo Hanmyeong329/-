{
 "cells": [
  {
   "cell_type": "code",
   "execution_count": 7,
   "metadata": {},
   "outputs": [
    {
     "name": "stdout",
     "output_type": "stream",
     "text": [
      "3\n",
      "21 kyu\n",
      "100 jun\n",
      "21 juu\n",
      "21 kyu\n",
      "21 juu\n",
      "100 jun\n"
     ]
    }
   ],
   "source": [
    "age={}\n",
    "for x in range(int(input())):\n",
    "    a,b=input().split()\n",
    "    if int(a) not in age:\n",
    "        age[int(a)]=[]\n",
    "        age[int(a)].append(b)\n",
    "    else:age[int(a)].append(b)\n",
    "for k,v in sorted(age.items()):\n",
    "    for _ in range(len(v)):\n",
    "        print(k,v[_])"
   ]
  },
  {
   "cell_type": "code",
   "execution_count": null,
   "metadata": {},
   "outputs": [],
   "source": []
  }
 ],
 "metadata": {
  "kernelspec": {
   "display_name": "Python 3",
   "language": "python",
   "name": "python3"
  },
  "language_info": {
   "codemirror_mode": {
    "name": "ipython",
    "version": 3
   },
   "file_extension": ".py",
   "mimetype": "text/x-python",
   "name": "python",
   "nbconvert_exporter": "python",
   "pygments_lexer": "ipython3",
   "version": "3.8.5"
  }
 },
 "nbformat": 4,
 "nbformat_minor": 4
}
