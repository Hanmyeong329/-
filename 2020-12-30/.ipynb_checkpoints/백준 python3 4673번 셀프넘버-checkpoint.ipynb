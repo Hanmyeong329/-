{
 "cells": [
  {
   "cell_type": "code",
   "execution_count": 23,
   "metadata": {},
   "outputs": [
    {
     "name": "stdout",
     "output_type": "stream",
     "text": [
      "1\n",
      "3\n",
      "5\n",
      "7\n",
      "9\n",
      "20\n",
      "31\n",
      "42\n",
      "53\n",
      "64\n",
      "75\n",
      "86\n",
      "97\n"
     ]
    }
   ],
   "source": [
    "def d(n):\n",
    "    arr=list(range(1,n+1))\n",
    "    arr2=[]\n",
    "    for x in arr:\n",
    "        k=x\n",
    "        b=list(str(x))\n",
    "        for i in b:\n",
    "            k+=int(i)\n",
    "        if k in arr:\n",
    "                arr2.append(k)    \n",
    "    set_arr2=set(arr2)\n",
    "    y=[_ for _ in arr if _ not in set_arr2]\n",
    "    for _ in y:\n",
    "        print(_)\n",
    "    \n",
    "d(10000)"
   ]
  },
  {
   "cell_type": "code",
   "execution_count": null,
   "metadata": {},
   "outputs": [],
   "source": []
  }
 ],
 "metadata": {
  "kernelspec": {
   "display_name": "Python 3",
   "language": "python",
   "name": "python3"
  },
  "language_info": {
   "codemirror_mode": {
    "name": "ipython",
    "version": 3
   },
   "file_extension": ".py",
   "mimetype": "text/x-python",
   "name": "python",
   "nbconvert_exporter": "python",
   "pygments_lexer": "ipython3",
   "version": "3.8.5"
  }
 },
 "nbformat": 4,
 "nbformat_minor": 4
}
