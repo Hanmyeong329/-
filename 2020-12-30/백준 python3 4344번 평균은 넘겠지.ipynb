{
 "cells": [
  {
   "cell_type": "code",
   "execution_count": 7,
   "metadata": {},
   "outputs": [
    {
     "name": "stdout",
     "output_type": "stream",
     "text": [
      "5\n",
      "[[], [], [], [], []]\n"
     ]
    }
   ],
   "source": [
    "from functools import reduce\n",
    "i=int(input())\n",
    "arr=[]\n",
    "for x in range(i):\n",
    "    arr.append([])\n",
    "#print(arr)"
   ]
  },
  {
   "cell_type": "code",
   "execution_count": 8,
   "metadata": {},
   "outputs": [
    {
     "name": "stdout",
     "output_type": "stream",
     "text": [
      "5 50 50 70 80 100\n",
      "7 100 95 90 80 70 60 50\n",
      "3 70 90 80\n",
      "3 70 90 81\n",
      "9 100 99 98 97 96 95 94 93 91\n",
      "[[5, 50, 50, 70, 80, 100], [7, 100, 95, 90, 80, 70, 60, 50], [3, 70, 90, 80], [3, 70, 90, 81], [9, 100, 99, 98, 97, 96, 95, 94, 93, 91]]\n"
     ]
    }
   ],
   "source": [
    "for y in range(i):\n",
    "    arr[y][0:]=map(int,input().split())\n",
    "#print(arr)"
   ]
  },
  {
   "cell_type": "code",
   "execution_count": 30,
   "metadata": {},
   "outputs": [
    {
     "name": "stdout",
     "output_type": "stream",
     "text": [
      "40.000%\n",
      "57.143%\n",
      "33.333%\n",
      "66.667%\n",
      "55.556%\n"
     ]
    }
   ],
   "source": [
    "from functools import reduce\n",
    "for x in arr:\n",
    "    y=reduce(lambda a,b:a+b,x[1:])\n",
    "    ag=0\n",
    "    for _ in x[1:]:\n",
    "        if _>y/x[0]:\n",
    "            ag+=1\n",
    "    print(\"%.3f%%\"%(ag/x[0]*100))"
   ]
  },
  {
   "cell_type": "code",
   "execution_count": null,
   "metadata": {},
   "outputs": [],
   "source": []
  }
 ],
 "metadata": {
  "kernelspec": {
   "display_name": "Python 3",
   "language": "python",
   "name": "python3"
  },
  "language_info": {
   "codemirror_mode": {
    "name": "ipython",
    "version": 3
   },
   "file_extension": ".py",
   "mimetype": "text/x-python",
   "name": "python",
   "nbconvert_exporter": "python",
   "pygments_lexer": "ipython3",
   "version": "3.8.5"
  }
 },
 "nbformat": 4,
 "nbformat_minor": 4
}
