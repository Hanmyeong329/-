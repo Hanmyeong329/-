{
 "cells": [
  {
   "cell_type": "code",
   "execution_count": 37,
   "metadata": {},
   "outputs": [
    {
     "name": "stdout",
     "output_type": "stream",
     "text": [
      "10 500\n",
      "93 181 245 214 315 36 185 138 216 295\n",
      "[267, 310, 314, 343, 345, 355, 359, 374, 388, 390, 402, 412, 416, 419, 424, 431, 433, 435, 437, 444, 445, 447, 459, 462, 466, 466, 469, 476, 488, 489, 490, 492, 494, 495, 497]\n"
     ]
    }
   ],
   "source": [
    "n,m=map(int,input().split())\n",
    "ar=[]\n",
    "br=[]\n",
    "arr=list(map(int,input().split()))\n",
    "\n",
    "for x in arr:\n",
    "    for y in arr[arr.index(x)+1:]:\n",
    "        for z in arr[arr.index(y)+1:]:\n",
    "            if (x+y+z)<=m:\n",
    "                ar.append(x+y+z)\n",
    "ar.sort()\n",
    "print(ar[-1])\n",
    "\n"
   ]
  },
  {
   "cell_type": "code",
   "execution_count": null,
   "metadata": {},
   "outputs": [],
   "source": []
  }
 ],
 "metadata": {
  "kernelspec": {
   "display_name": "Python 3",
   "language": "python",
   "name": "python3"
  },
  "language_info": {
   "codemirror_mode": {
    "name": "ipython",
    "version": 3
   },
   "file_extension": ".py",
   "mimetype": "text/x-python",
   "name": "python",
   "nbconvert_exporter": "python",
   "pygments_lexer": "ipython3",
   "version": "3.8.5"
  }
 },
 "nbformat": 4,
 "nbformat_minor": 4
}
