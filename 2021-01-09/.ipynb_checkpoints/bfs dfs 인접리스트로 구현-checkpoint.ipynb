{
 "cells": [
  {
   "cell_type": "code",
   "execution_count": 5,
   "metadata": {},
   "outputs": [
    {
     "name": "stdout",
     "output_type": "stream",
     "text": [
      "A\n",
      "graph[n]: {'B', 'C'}\n",
      "set(visited): {'A'}\n",
      "queue: ['B', 'C']\n",
      "B\n",
      "graph[n]: {'E', 'A', 'D'}\n",
      "set(visited): {'B', 'A'}\n",
      "queue: ['C', 'E', 'D']\n",
      "C\n",
      "graph[n]: {'A', 'F'}\n",
      "set(visited): {'B', 'A', 'C'}\n",
      "queue: ['E', 'D', 'F']\n",
      "E\n",
      "graph[n]: {'B', 'F'}\n",
      "set(visited): {'B', 'A', 'E', 'C'}\n",
      "queue: ['D', 'F', 'F']\n",
      "D\n",
      "graph[n]: {'B'}\n",
      "set(visited): {'B', 'E', 'D', 'A', 'C'}\n",
      "queue: ['F', 'F']\n",
      "F\n",
      "graph[n]: {'E', 'C'}\n",
      "set(visited): {'B', 'E', 'D', 'A', 'F', 'C'}\n",
      "queue: ['F']\n",
      "F\n",
      "['A', 'B', 'C', 'E', 'D', 'F']\n"
     ]
    }
   ],
   "source": [
    "graph = {'A': set(['B', 'C']),\n",
    "         'B': set(['A', 'D', 'E']),\n",
    "         'C': set(['A', 'F']),\n",
    "         'D': set(['B']),\n",
    "         'E': set(['B', 'F']),\n",
    "         'F': set(['C', 'E'])}\n",
    "\n",
    "def bfs(graph, start):\n",
    "    visited = []\n",
    "    queue = [start]\n",
    "\n",
    "    while queue:\n",
    "        n = queue.pop(0)\n",
    "        print(n)\n",
    "        if n not in visited:\n",
    "            visited.append(n)\n",
    "            print('graph[n]:',graph[n])\n",
    "            print('set(visited):',set(visited))\n",
    "            queue += graph[n] - set(visited)\n",
    "            print('queue:',queue)\n",
    "    return visited\n",
    "print(bfs(graph,'A'))\n"
   ]
  },
  {
   "cell_type": "code",
   "execution_count": 7,
   "metadata": {},
   "outputs": [
    {
     "name": "stdout",
     "output_type": "stream",
     "text": [
      "A\n",
      "graph[n]: {'B', 'C'}\n",
      "set(visited): {'A'}\n",
      "stack: ['B', 'C']\n",
      "C\n",
      "graph[n]: {'A', 'F'}\n",
      "set(visited): {'A', 'C'}\n",
      "stack: ['B', 'F']\n",
      "F\n",
      "graph[n]: {'E', 'C'}\n",
      "set(visited): {'F', 'A', 'C'}\n",
      "stack: ['B', 'E']\n",
      "E\n",
      "graph[n]: {'B', 'F'}\n",
      "set(visited): {'F', 'E', 'A', 'C'}\n",
      "stack: ['B', 'B']\n",
      "B\n",
      "graph[n]: {'E', 'A', 'D'}\n",
      "set(visited): {'B', 'E', 'A', 'F', 'C'}\n",
      "stack: ['B', 'D']\n",
      "D\n",
      "graph[n]: {'B'}\n",
      "set(visited): {'B', 'E', 'D', 'A', 'F', 'C'}\n",
      "stack: ['B']\n",
      "B\n"
     ]
    },
    {
     "data": {
      "text/plain": [
       "['A', 'C', 'F', 'E', 'B', 'D']"
      ]
     },
     "execution_count": 7,
     "metadata": {},
     "output_type": "execute_result"
    }
   ],
   "source": [
    "graph = {'A': set(['B', 'C']),\n",
    "         'B': set(['A', 'D', 'E']),\n",
    "         'C': set(['A', 'F']),\n",
    "         'D': set(['B']),\n",
    "         'E': set(['B', 'F']),\n",
    "         'F': set(['C', 'E'])}\n",
    "\n",
    "def dfs(graph, start):\n",
    "    visited = []\n",
    "    stack = [start]\n",
    "\n",
    "    while stack:\n",
    "        n = stack.pop()\n",
    "        print(n)\n",
    "        if n not in visited:\n",
    "            visited.append(n)\n",
    "            print('graph[n]:',graph[n])\n",
    "            print('set(visited):',set(visited))\n",
    "            stack += graph[n] - set(visited)\n",
    "            print('stack:',stack)\n",
    "    return visited\n",
    "dfs(graph,'A')"
   ]
  },
  {
   "cell_type": "code",
   "execution_count": null,
   "metadata": {},
   "outputs": [],
   "source": []
  }
 ],
 "metadata": {
  "kernelspec": {
   "display_name": "Python 3",
   "language": "python",
   "name": "python3"
  },
  "language_info": {
   "codemirror_mode": {
    "name": "ipython",
    "version": 3
   },
   "file_extension": ".py",
   "mimetype": "text/x-python",
   "name": "python",
   "nbconvert_exporter": "python",
   "pygments_lexer": "ipython3",
   "version": "3.8.5"
  }
 },
 "nbformat": 4,
 "nbformat_minor": 4
}
