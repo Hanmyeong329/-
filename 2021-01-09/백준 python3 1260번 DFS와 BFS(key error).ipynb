{
 "cells": [
  {
   "cell_type": "code",
   "execution_count": null,
   "metadata": {},
   "outputs": [],
   "source": [
    "from collections import deque\n",
    "def dfs(graph,start):\n",
    "    visited = []\n",
    "    stack=[start]\n",
    "    \n",
    "    while stack:\n",
    "        n = stack.pop()\n",
    "        if n not in visited:\n",
    "            visited.append(n)\n",
    "            temp = list(set(graph[n]) - set(visited))\n",
    "            temp.sort(reverse=True)\n",
    "            stack += temp\n",
    "    return visited\n",
    "    \n",
    "def bfs(graph,start):\n",
    "    visited = []\n",
    "    queue=deque([start])\n",
    "    while queue:\n",
    "        n=queue.popleft()\n",
    "        if n not in visited:\n",
    "            visited.append(n)\n",
    "            temp = list(set(graph[n]) - set(visited))\n",
    "            temp.sort()\n",
    "            queue.extend(temp)\n",
    "    return visited\n",
    "\n",
    "a,b,c=map(int,input().split())\n",
    "grap={}\n",
    "for x in range(b):\n",
    "    m,n=map(int,input().split())\n",
    "    if m not in grap:\n",
    "        grap[m]=[]\n",
    "    if n not in grap:\n",
    "        grap[n]=[]\n",
    "    if n not in grap[m]:\n",
    "        grap[m].append(n)\n",
    "    if m not in grap[n]:\n",
    "        grap[n].append(m)\n",
    "\n",
    "print(' '.join(map(str,dfs(grap,c))))\n",
    "print(' '.join(map(str,bfs(grap,c))))"
   ]
  }
 ],
 "metadata": {
  "kernelspec": {
   "display_name": "Python 3",
   "language": "python",
   "name": "python3"
  },
  "language_info": {
   "codemirror_mode": {
    "name": "ipython",
    "version": 3
   },
   "file_extension": ".py",
   "mimetype": "text/x-python",
   "name": "python",
   "nbconvert_exporter": "python",
   "pygments_lexer": "ipython3",
   "version": "3.8.5"
  }
 },
 "nbformat": 4,
 "nbformat_minor": 4
}
