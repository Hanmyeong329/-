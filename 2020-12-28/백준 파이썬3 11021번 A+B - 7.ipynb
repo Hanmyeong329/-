{
 "cells": [
  {
   "cell_type": "code",
   "execution_count": 5,
   "metadata": {},
   "outputs": [
    {
     "name": "stdout",
     "output_type": "stream",
     "text": [
      "3\n",
      "1 2\n",
      "3 4\n",
      "5 6\n",
      "Case #1: 3\n",
      "Case #2: 7\n",
      "Case #3: 11\n"
     ]
    }
   ],
   "source": [
    "def hap(x,y):\n",
    "    return x+y\n",
    "i=int(input())\n",
    "\n",
    "c = [[0 for j in range(2)] for i in range(i)]\n",
    "d=[]\n",
    "for a,b in c:\n",
    "    a,b=map(int,input().split())\n",
    "    d.append(hap(a,b))\n",
    "x=1\n",
    "for i in d:\n",
    "    print('Case #%d:'%x,i)\n",
    "    x+=1"
   ]
  },
  {
   "cell_type": "code",
   "execution_count": null,
   "metadata": {},
   "outputs": [],
   "source": []
  }
 ],
 "metadata": {
  "kernelspec": {
   "display_name": "Python 3",
   "language": "python",
   "name": "python3"
  },
  "language_info": {
   "codemirror_mode": {
    "name": "ipython",
    "version": 3
   },
   "file_extension": ".py",
   "mimetype": "text/x-python",
   "name": "python",
   "nbconvert_exporter": "python",
   "pygments_lexer": "ipython3",
   "version": "3.8.5"
  }
 },
 "nbformat": 4,
 "nbformat_minor": 4
}
