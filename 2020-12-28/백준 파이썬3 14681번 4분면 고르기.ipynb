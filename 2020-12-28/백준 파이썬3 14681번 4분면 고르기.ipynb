{
 "cells": [
  {
   "cell_type": "code",
   "execution_count": 20,
   "metadata": {},
   "outputs": [
    {
     "name": "stdout",
     "output_type": "stream",
     "text": [
      "12\n",
      "5\n",
      "1\n"
     ]
    }
   ],
   "source": [
    "def Quadrant(x,y):\n",
    "    if -1000<=x<0:\n",
    "        if -1000<=y<0:\n",
    "            print(3)\n",
    "        else:\n",
    "            print(2)\n",
    "    else:\n",
    "        if -1000<=y<0:\n",
    "            print(4)\n",
    "        else:\n",
    "            print(1)\n",
    "a,b=[int(input()) for x in range(2)]\n",
    "Quadrant(a,b)"
   ]
  },
  {
   "cell_type": "markdown",
   "metadata": {},
   "source": [
    "# "
   ]
  },
  {
   "cell_type": "code",
   "execution_count": null,
   "metadata": {},
   "outputs": [],
   "source": []
  }
 ],
 "metadata": {
  "kernelspec": {
   "display_name": "Python 3",
   "language": "python",
   "name": "python3"
  },
  "language_info": {
   "codemirror_mode": {
    "name": "ipython",
    "version": 3
   },
   "file_extension": ".py",
   "mimetype": "text/x-python",
   "name": "python",
   "nbconvert_exporter": "python",
   "pygments_lexer": "ipython3",
   "version": "3.8.5"
  }
 },
 "nbformat": 4,
 "nbformat_minor": 4
}
