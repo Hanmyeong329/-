{
 "cells": [
  {
   "cell_type": "code",
   "execution_count": 44,
   "metadata": {},
   "outputs": [
    {
     "name": "stdout",
     "output_type": "stream",
     "text": [
      "3\n",
      "1 2\n",
      "3 4\n",
      "5 6\n",
      "Case #1: 1 + 2 = 3\n",
      "Case #2: 3 + 4 = 7\n",
      "Case #3: 5 + 6 = 11\n"
     ]
    }
   ],
   "source": [
    "i = int(input())\n",
    "arr=[[int(x) for x in input().split()]for y in range(i)]\n",
    "x=1\n",
    "for a,b in arr:\n",
    "    print('Case #%d:'%x,a,'+',b,'=',a+b)\n",
    "    x+=1"
   ]
  },
  {
   "cell_type": "code",
   "execution_count": null,
   "metadata": {},
   "outputs": [],
   "source": []
  }
 ],
 "metadata": {
  "kernelspec": {
   "display_name": "Python 3",
   "language": "python",
   "name": "python3"
  },
  "language_info": {
   "codemirror_mode": {
    "name": "ipython",
    "version": 3
   },
   "file_extension": ".py",
   "mimetype": "text/x-python",
   "name": "python",
   "nbconvert_exporter": "python",
   "pygments_lexer": "ipython3",
   "version": "3.8.5"
  }
 },
 "nbformat": 4,
 "nbformat_minor": 4
}
