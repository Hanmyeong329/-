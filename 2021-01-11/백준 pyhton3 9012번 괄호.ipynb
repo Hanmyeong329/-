{
 "cells": [
  {
   "cell_type": "code",
   "execution_count": null,
   "metadata": {},
   "outputs": [
    {
     "name": "stdout",
     "output_type": "stream",
     "text": [
      "10\n",
      "(()(\n",
      "N0\n",
      "(())()))\n",
      "N0\n",
      "(()\n",
      "N0\n",
      "((()\n",
      "N0\n",
      "()()(()\n",
      "N0\n",
      "()()\n",
      "YES\n"
     ]
    }
   ],
   "source": [
    "\n",
    "for x in range(int(input())):\n",
    "    arr=[]\n",
    "    a=list(str(input()))\n",
    "    flag=True\n",
    "    for _ in a:\n",
    "        if _ =='(':\n",
    "            arr.append('(')\n",
    "        elif _ ==')':\n",
    "            if '(' in arr:\n",
    "                arr.pop()\n",
    "            elif '(' not in arr:\n",
    "                flag=False\n",
    "                print('NO')\n",
    "                break\n",
    "    if arr and flag==True:\n",
    "            print('NO')\n",
    "    elif not arr and flag==True:\n",
    "            print('YES')"
   ]
  },
  {
   "cell_type": "code",
   "execution_count": null,
   "metadata": {},
   "outputs": [],
   "source": []
  }
 ],
 "metadata": {
  "kernelspec": {
   "display_name": "Python 3",
   "language": "python",
   "name": "python3"
  },
  "language_info": {
   "codemirror_mode": {
    "name": "ipython",
    "version": 3
   },
   "file_extension": ".py",
   "mimetype": "text/x-python",
   "name": "python",
   "nbconvert_exporter": "python",
   "pygments_lexer": "ipython3",
   "version": "3.8.5"
  }
 },
 "nbformat": 4,
 "nbformat_minor": 4
}
