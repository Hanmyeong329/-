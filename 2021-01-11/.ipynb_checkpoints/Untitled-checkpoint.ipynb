{
 "cells": [
  {
   "cell_type": "code",
   "execution_count": 34,
   "metadata": {},
   "outputs": [
    {
     "name": "stdout",
     "output_type": "stream",
     "text": [
      "8\n",
      "4\n",
      "3\n",
      "6\n",
      "8\n",
      "7\n",
      "5\n",
      "2\n",
      "1\n",
      "[1]\n",
      "['+']\n",
      "[1, 2]\n",
      "['+', '+']\n",
      "[1, 2, 3]\n",
      "['+', '+', '+']\n",
      "[1, 2, 3, 4]\n",
      "['+', '+', '+', '+']\n",
      "[1, 2, 3]\n",
      "['+', '+', '+', '+', '-']\n",
      "[1, 2, 3, 5]\n",
      "['+', '+', '+', '+', '-', '+']\n",
      "[1, 2, 3, 5, 6]\n",
      "['+', '+', '+', '+', '-', '+', '+']\n",
      "[1, 2, 3, 5]\n",
      "['+', '+', '+', '+', '-', '+', '+', '-']\n",
      "[1, 2, 3, 5, 7]\n",
      "['+', '+', '+', '+', '-', '+', '+', '-', '+']\n",
      "[1, 2, 3, 5]\n",
      "['+', '+', '+', '+', '-', '+', '+', '-', '+', '-']\n",
      "NO\n"
     ]
    }
   ],
   "source": [
    "stack=[]\n",
    "st=[]\n",
    "arr=[]\n",
    "flag=True\n",
    "a=int(input())\n",
    "for x in range(a):\n",
    "    arr.append(int(input()))\n",
    "t=0\n",
    "ty=0\n",
    "while True:\n",
    "    if stack and (stack[-1]!=arr[t]) and (arr[t] in stack):\n",
    "        print('NO')\n",
    "        flag=False\n",
    "        break\n",
    "    if not arr:\n",
    "        stack.append(y)\n",
    "        st.append('+')\n",
    "        print(stack)\n",
    "        print(st)\n",
    "    elif stack[-1]==arr[t] and (y not in stack):\n",
    "        stack.append(y)\n",
    "        st.append('+')\n",
    "        print(stack)\n",
    "        print(st)\n",
    "        stack.pop()\n",
    "        st.append('-')\n",
    "        arr.remove(arr[t])\n",
    "        t+=1\n",
    "        print(stack)\n",
    "        print(st)\n",
    "        \n",
    "    elif y!=arr[t] and (y not in stack):\n",
    "        stack.append(y)\n",
    "        st.append('+')\n",
    "        print(stack)\n",
    "        print(st)\n",
    "    \n",
    "    elif stack and (stack[-1]!=arr[t]) and (arr[t] in stack):\n",
    "        print('NO')\n",
    "        flag=False\n",
    "        break\n",
    "    \n",
    "if stack and flag==True:\n",
    "    for x in st:\n",
    "        print(x)\n",
    "    \n",
    "    \n",
    "    \n",
    "    \n",
    "        "
   ]
  },
  {
   "cell_type": "code",
   "execution_count": null,
   "metadata": {},
   "outputs": [],
   "source": []
  }
 ],
 "metadata": {
  "kernelspec": {
   "display_name": "Python 3",
   "language": "python",
   "name": "python3"
  },
  "language_info": {
   "codemirror_mode": {
    "name": "ipython",
    "version": 3
   },
   "file_extension": ".py",
   "mimetype": "text/x-python",
   "name": "python",
   "nbconvert_exporter": "python",
   "pygments_lexer": "ipython3",
   "version": "3.8.5"
  }
 },
 "nbformat": 4,
 "nbformat_minor": 4
}
