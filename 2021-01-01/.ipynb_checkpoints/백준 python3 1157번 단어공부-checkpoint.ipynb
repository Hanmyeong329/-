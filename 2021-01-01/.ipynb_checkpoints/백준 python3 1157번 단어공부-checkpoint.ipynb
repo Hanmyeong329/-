{
 "cells": [
  {
   "cell_type": "code",
   "execution_count": 118,
   "metadata": {},
   "outputs": [
    {
     "name": "stdout",
     "output_type": "stream",
     "text": [
      "Mississipi\n",
      "?\n"
     ]
    }
   ],
   "source": [
    "s=input()\n",
    "up=list(s.upper())\n",
    "set_up=list(set(up))\n",
    "se=[]\n",
    "for _ in set_up:\n",
    "    line=[]\n",
    "    for x in _:\n",
    "        line.append(_)\n",
    "        line.append(0)\n",
    "    se.append(line)\n",
    "ss=0\n",
    "for x,y in se:\n",
    "    for c in up:\n",
    "        if x==c:\n",
    "            y+=1\n",
    "            se[ss][1]=y\n",
    "    ss+=1\n",
    "k=sorted(se, key=lambda x:x[1])\n",
    "if len(k)>1 and k[len(k)-1][1]==k[len(k)-2][1]:\n",
    "    print('?')\n",
    "else:\n",
    "    print(k[len(k)-1][0])"
   ]
  },
  {
   "cell_type": "code",
   "execution_count": null,
   "metadata": {},
   "outputs": [],
   "source": []
  }
 ],
 "metadata": {
  "kernelspec": {
   "display_name": "Python 3",
   "language": "python",
   "name": "python3"
  },
  "language_info": {
   "codemirror_mode": {
    "name": "ipython",
    "version": 3
   },
   "file_extension": ".py",
   "mimetype": "text/x-python",
   "name": "python",
   "nbconvert_exporter": "python",
   "pygments_lexer": "ipython3",
   "version": "3.8.5"
  }
 },
 "nbformat": 4,
 "nbformat_minor": 4
}
