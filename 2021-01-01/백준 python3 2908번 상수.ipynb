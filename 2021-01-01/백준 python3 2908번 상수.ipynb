{
 "cells": [
  {
   "cell_type": "code",
   "execution_count": 63,
   "metadata": {},
   "outputs": [
    {
     "name": "stdout",
     "output_type": "stream",
     "text": [
      "734 893\n",
      "437\n"
     ]
    }
   ],
   "source": [
    "from functools import reduce\n",
    "i=input().split()\n",
    "k=[]\n",
    "for x in i:\n",
    "    p=list(str(x))\n",
    "    k.append(p)\n",
    "a=[]\n",
    "for t in range(len(k)):\n",
    "    a.append(reduce(lambda x,y:y+x,k[t]))\n",
    "if int(a[0])>int(a[1]):\n",
    "    print(a[0])\n",
    "else:\n",
    "    print(a[1])"
   ]
  },
  {
   "cell_type": "code",
   "execution_count": null,
   "metadata": {},
   "outputs": [],
   "source": []
  }
 ],
 "metadata": {
  "kernelspec": {
   "display_name": "Python 3",
   "language": "python",
   "name": "python3"
  },
  "language_info": {
   "codemirror_mode": {
    "name": "ipython",
    "version": 3
   },
   "file_extension": ".py",
   "mimetype": "text/x-python",
   "name": "python",
   "nbconvert_exporter": "python",
   "pygments_lexer": "ipython3",
   "version": "3.8.5"
  }
 },
 "nbformat": 4,
 "nbformat_minor": 4
}
